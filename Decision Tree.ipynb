{
 "cells": [
  {
   "cell_type": "code",
   "execution_count": null,
   "metadata": {},
   "outputs": [],
   "source": [
    "##EJERCICIO !\n",
    "¿Creéis que los árboles de decisión son el método más adecuado para conseguir \n",
    "los objetivos que os habíais propuesto? Justificad la respuesta razonándola. \n",
    "Si lo deseáis, podéis redefinir o adecuar la propuesta de proyecto. \n",
    "¿Cómo podría ser el árbol resultante? ¿Podríais dar, al menos, tres ejemplos de reglas que \n",
    "se podrían derivar del árbol de decisión de vuestro proyecto?\n",
    "\n",
    "Mi objetivo es conseguir un modelo predictivo del abandono de los trabajadores en una empresa. PAra ello he cogido un dataset de internet\n",
    "donde salen varias variables que analizaremos a continuación. \n",
    "El modelo con árbol de decisión es un buen modelo para averiguar cual es la varibales o variables que influyen más en la decisión de \n",
    "de abandonar la empresas. EL árbol de decisión no sólo nos da información sobre dichas variables sino que además lo hace de una forma muy visual\n",
    "que nos permite ganar intuición facilmente.\n",
    "Otros módelos como la regresión logistica son pueden ayudar a mejorar el rendimiento de un modelo predictivo de abandono pero\n",
    "no son proporcionan una visión tan intuitiva de las variables que influeyen. Lo mismo pasa con la redes neuronales.\n",
    "Por lo tanto, en un sector como HR donde saber los mótivos es tan impotante la intuición que \n",
    "nos proporciona el modelo de árbol de decisión es muy útil.\n",
    "\n",
    "Si lo mejorase sería como luego se aprecia en el analisis, mediante un poda y limitando el numero de observaciones en cada\n",
    "hoja porque la visulización de un modelo tan poblado es dificil y me ha resultado imposible plasmarlo de forma lógica con \n",
    "GraphViz.\n",
    "\n",
    "Un árbol nos ayuda a entender reglas como el caos o la ganancia de información que se miden con el Gini y la entropia. A menos Gini\n",
    "más pureza existe en las hojas y menos entropia o caos existe, por lo tanto, más significativo es esa variable.\n",
    "\n"
   ]
  },
  {
   "cell_type": "code",
   "execution_count": 2,
   "metadata": {},
   "outputs": [],
   "source": [
    "#EJERCICIO 2\n",
    "#Importamos las librerias necesarias para comenzar a manipular el dataset\n",
    "#Vamos a analizar un dataset donde se plasman diferentes variables sobre un trabajador con el objetivo de poder\n",
    "#llegar a generar un modelo de árbol de decisión predictivo que son diga la probabilidad de abandono de un empleado.\n",
    "    \n",
    "import pandas as pd\n",
    "import matplotlib.pyplot as plt"
   ]
  },
  {
   "cell_type": "code",
   "execution_count": 3,
   "metadata": {},
   "outputs": [],
   "source": [
    "#Se importa el dataset donde se analiza el conjunto de datos de HR en una empresa para intentar crear un arbol de decision\n",
    "#que nos ayude a predecir la salida de trabajadores\n",
    "\n",
    "df = pd.read_csv('HR_comma_sep.csv', header =0, sep=',', encoding='latin-1')"
   ]
  },
  {
   "cell_type": "code",
   "execution_count": 4,
   "metadata": {},
   "outputs": [
    {
     "name": "stdout",
     "output_type": "stream",
     "text": [
      "   satisfaction_level  last_evaluation  number_project  average_montly_hours  \\\n",
      "0                0.38             0.53               2                   157   \n",
      "1                0.80             0.86               5                   262   \n",
      "2                0.11             0.88               7                   272   \n",
      "3                0.72             0.87               5                   223   \n",
      "4                0.37             0.52               2                   159   \n",
      "\n",
      "   time_spend_company  Work_accident  left  promotion_last_5years  \\\n",
      "0                   3              0     1                      0   \n",
      "1                   6              0     1                      0   \n",
      "2                   4              0     1                      0   \n",
      "3                   5              0     1                      0   \n",
      "4                   3              0     1                      0   \n",
      "\n",
      "  Departments   salary  \n",
      "0        sales     low  \n",
      "1        sales  medium  \n",
      "2        sales  medium  \n",
      "3        sales     low  \n",
      "4        sales     low  \n"
     ]
    }
   ],
   "source": [
    "#una vez cargado a analizamos las variables y su contenido\n",
    "print(df.head())"
   ]
  },
  {
   "cell_type": "code",
   "execution_count": 5,
   "metadata": {},
   "outputs": [
    {
     "name": "stdout",
     "output_type": "stream",
     "text": [
      "<class 'pandas.core.frame.DataFrame'>\n",
      "RangeIndex: 14999 entries, 0 to 14998\n",
      "Data columns (total 10 columns):\n",
      "satisfaction_level       14999 non-null float64\n",
      "last_evaluation          14999 non-null float64\n",
      "number_project           14999 non-null int64\n",
      "average_montly_hours     14999 non-null int64\n",
      "time_spend_company       14999 non-null int64\n",
      "Work_accident            14999 non-null int64\n",
      "left                     14999 non-null int64\n",
      "promotion_last_5years    14999 non-null int64\n",
      "Departments              14999 non-null object\n",
      "salary                   14999 non-null object\n",
      "dtypes: float64(2), int64(6), object(2)\n",
      "memory usage: 1.1+ MB\n"
     ]
    }
   ],
   "source": [
    "df.columns\n",
    "df.info()"
   ]
  },
  {
   "cell_type": "code",
   "execution_count": 6,
   "metadata": {},
   "outputs": [
    {
     "name": "stdout",
     "output_type": "stream",
     "text": [
      "['sales' 'accounting' 'hr' 'technical' 'support' 'management' 'IT'\n",
      " 'product_mng' 'marketing' 'RandD']\n",
      "[1 0]\n",
      "['low' 'medium' 'high']\n",
      "[ 3  6  4  5  2  8 10  7]\n",
      "[0.38 0.8  0.11 0.72 0.37 0.41 0.1  0.92 0.89 0.42 0.45 0.84 0.36 0.78\n",
      " 0.76 0.09 0.46 0.4  0.82 0.87 0.57 0.43 0.13 0.44 0.39 0.85 0.81 0.9\n",
      " 0.74 0.79 0.17 0.24 0.91 0.71 0.86 0.14 0.75 0.7  0.31 0.73 0.83 0.32\n",
      " 0.54 0.27 0.77 0.88 0.48 0.19 0.6  0.12 0.61 0.33 0.56 0.47 0.28 0.55\n",
      " 0.53 0.59 0.66 0.25 0.34 0.58 0.51 0.35 0.64 0.5  0.23 0.15 0.49 0.3\n",
      " 0.63 0.21 0.62 0.29 0.2  0.16 0.65 0.68 0.67 0.22 0.26 0.99 0.98 1.\n",
      " 0.52 0.93 0.97 0.69 0.94 0.96 0.18 0.95]\n",
      "[2 5 7 6 4 3]\n"
     ]
    }
   ],
   "source": [
    "# Aqui hacemos un analisis más detenido de las variables que consideramos más relevantes (de forma intuitiva) y su contenido con un .unique() y asi ver\n",
    "#que valores tiene cada variable\n",
    "print(df['Departments '].unique())\n",
    "print(df.left.unique())\n",
    "print(df.salary.unique())\n",
    "print(df.time_spend_company.unique())\n",
    "print(df.satisfaction_level.unique())\n",
    "print(df.number_project.unique())\n"
   ]
  },
  {
   "cell_type": "code",
   "execution_count": 46,
   "metadata": {},
   "outputs": [
    {
     "name": "stdout",
     "output_type": "stream",
     "text": [
      "14999\n"
     ]
    }
   ],
   "source": [
    "# Usamos len() para obtener el total de observaciones y lo almacenamos en el n_employees\n",
    "n_trabajadores = len(df)\n",
    "\n",
    "print(n_trabajadores)"
   ]
  },
  {
   "cell_type": "code",
   "execution_count": 8,
   "metadata": {},
   "outputs": [
    {
     "name": "stdout",
     "output_type": "stream",
     "text": [
      "0    11428\n",
      "1     3571\n",
      "Name: left, dtype: int64\n"
     ]
    }
   ],
   "source": [
    "# Mostramos el número de empleados que dejan la empresa y los que se quedan\n",
    "print(df.left.value_counts())"
   ]
  },
  {
   "cell_type": "code",
   "execution_count": 9,
   "metadata": {},
   "outputs": [
    {
     "name": "stdout",
     "output_type": "stream",
     "text": [
      "0    76.191746\n",
      "1    23.808254\n",
      "Name: left, dtype: float64\n"
     ]
    }
   ],
   "source": [
    "# Aqui vemos el porcentaje de los empleados que se quedan y se van\n",
    "print(df.left.value_counts()/n_employees*100)"
   ]
  },
  {
   "cell_type": "code",
   "execution_count": 10,
   "metadata": {},
   "outputs": [
    {
     "data": {
      "text/plain": [
       "<matplotlib.axes._subplots.AxesSubplot at 0x1b3f4d5c470>"
      ]
     },
     "execution_count": 10,
     "metadata": {},
     "output_type": "execute_result"
    },
    {
     "data": {
      "image/png": "[encoded data removed]",
      "text/plain": [
       "<Figure size 432x288 with 1 Axes>"
      ]
     },
     "metadata": {},
     "output_type": "display_data"
    }
   ],
   "source": [
    "#Importamos la libreria de seaborn para mostrar graficamente los datos y ganar intuición\n",
    "import seaborn as sns\n",
    "#dejan la empresa\n",
    "sns.countplot(x='left',data=df)"
   ]
  },
  {
   "cell_type": "code",
   "execution_count": 11,
   "metadata": {},
   "outputs": [
    {
     "data": {
      "image/png": "[encoded data removed]",
      "text/plain": [
       "<Figure size 432x288 with 1 Axes>"
      ]
     },
     "metadata": {},
     "output_type": "display_data"
    }
   ],
   "source": [
    "#salario\n",
    "sns.countplot(x = \"salary\", data = df)\n",
    "plt.show()"
   ]
  },
  {
   "cell_type": "code",
   "execution_count": 12,
   "metadata": {},
   "outputs": [
    {
     "data": {
      "text/plain": [
       "<matplotlib.axes._subplots.AxesSubplot at 0x1b3f605d4e0>"
      ]
     },
     "execution_count": 12,
     "metadata": {},
     "output_type": "execute_result"
    },
    {
     "data": {
      "image/png": "[encoded data removed]",
      "text/plain": [
       "<Figure size 432x288 with 1 Axes>"
      ]
     },
     "metadata": {},
     "output_type": "display_data"
    }
   ],
   "source": [
    "#Departamentos\n",
    "sns.countplot(x='Departments ',data=df)"
   ]
  },
  {
   "cell_type": "code",
   "execution_count": 13,
   "metadata": {},
   "outputs": [],
   "source": [
    "#Una vez analizados los datos procedemos a adecuar el dataset para entrenar un modelo de sklearn con arboles de decisión\n",
    "#Esta preprocesamiento se realiza mediante encoding de las varibales categoricas como el salario o los departamentos\n",
    "#lo convertimos en categórico\n",
    "df.salary = df.salary.astype('category')\n",
    "\n",
    "# damos el correcto orden de los valores\n",
    "df.salary = df.salary.cat.reorder_categories(['low', 'medium', 'high'])\n",
    "\n",
    "# codificamos las categorias\n",
    "df.salary = df.salary.cat.codes"
   ]
  },
  {
   "cell_type": "code",
   "execution_count": 14,
   "metadata": {},
   "outputs": [],
   "source": [
    "df['Departments '] = df['Departments '].astype('category')\n",
    "\n",
    "\n",
    "\n",
    "df['Departments '] = df['Departments '].cat.reorder_categories(['sales', 'accounting', 'hr', 'technical', 'support', 'management', 'IT',\n",
    " 'product_mng', 'marketing', 'RandD'])\n",
    "\n",
    "\n",
    "df['Departments '] = df['Departments '].cat.codes"
   ]
  },
  {
   "cell_type": "code",
   "execution_count": 15,
   "metadata": {},
   "outputs": [
    {
     "name": "stdout",
     "output_type": "stream",
     "text": [
      "0    0\n",
      "1    0\n",
      "2    0\n",
      "3    0\n",
      "4    0\n",
      "Name: Departments , dtype: int8\n",
      "0    0\n",
      "1    1\n",
      "2    1\n",
      "3    0\n",
      "4    0\n",
      "Name: salary, dtype: int8\n"
     ]
    }
   ],
   "source": [
    "#una muestra de los resultados\n",
    "#asi ya tenemos el dataset adecuado para entrenar el modelo ya que sklearn\n",
    "print(df['Departments '].head())\n",
    "print(df.salary.head())"
   ]
  },
  {
   "cell_type": "code",
   "execution_count": 51,
   "metadata": {},
   "outputs": [
    {
     "data": {
      "image/png": "[encoded data removed]",
      "text/plain": [
       "<Figure size 432x288 with 2 Axes>"
      ]
     },
     "metadata": {},
     "output_type": "display_data"
    }
   ],
   "source": [
    "#imprimimos una matriz de correlación para ver que variables son más condicionantes para dejar la empresa\n",
    "corr_matrix = df.corr()\n",
    "sns.heatmap(corr_matrix)\n",
    "plt.show()\n",
    "\n",
    "#Se aprecia claramente que satisfaction_level y salary son importantes"
   ]
  },
  {
   "cell_type": "code",
   "execution_count": 19,
   "metadata": {},
   "outputs": [
    {
     "name": "stdout",
     "output_type": "stream",
     "text": [
      "salary  left\n",
      "0       0       5144\n",
      "        1       2172\n",
      "1       0       5129\n",
      "        1       1317\n",
      "2       0       1155\n",
      "        1         82\n",
      "Name: left, dtype: int64\n",
      "0.36279848707472784\n"
     ]
    }
   ],
   "source": [
    "#Esta importancia se puede comprobar con el calculo de Gini y asi determinar que variables dejan hojas en el arbol más puras.\n",
    "'''\n",
    "El algoritmo del árbol de decisión apunta a lograr particiones en los nodos que sean lo más puros posibles. \n",
    "\n",
    "El índice de Gini es uno de los métodos utilizados para lograrlo. Se calcula en base a la proporción de muestras en cada grupo.\n",
    "dado el número de personas que se quedaron y se fueron, respectivamente.\n",
    "\n",
    "Para ese objetivo tenemos reglas: queremos minimizar el gini y la entropía para obtener lo más puros posible los últimos nodos.\n",
    "'''\n",
    "\n",
    "print(df.groupby(['salary']).left.value_counts())\n"
   ]
  },
  {
   "cell_type": "code",
   "execution_count": 23,
   "metadata": {},
   "outputs": [
    {
     "name": "stdout",
     "output_type": "stream",
     "text": [
      "0.36279848707472784\n"
     ]
    }
   ],
   "source": [
    "#contra mas reducido mas pureza proporciona y más determinante es la variable\n",
    "quedan =11428\n",
    "dejan= 3571\n",
    "total=14999\n",
    "gini =  2*(quedan/total)*(dejan/total)\n",
    "print(gini)"
   ]
  },
  {
   "cell_type": "code",
   "execution_count": 24,
   "metadata": {},
   "outputs": [
    {
     "name": "stdout",
     "output_type": "stream",
     "text": [
      "Work_accident  left\n",
      "0              0       9428\n",
      "               1       3402\n",
      "1              0       2000\n",
      "               1        169\n",
      "Name: left, dtype: int64\n"
     ]
    }
   ],
   "source": [
    "print(df.groupby(['Work_accident']).left.value_counts())"
   ]
  },
  {
   "cell_type": "code",
   "execution_count": 25,
   "metadata": {},
   "outputs": [
    {
     "name": "stdout",
     "output_type": "stream",
     "text": [
      "0.0030048450770998577\n"
     ]
    }
   ],
   "source": [
    "#Se aprecia que el gini es menor\n",
    "quedan =2000\n",
    "dejan= 169\n",
    "total=14999\n",
    "gini =  2*(quedan/total)*(dejan/total)\n",
    "print(gini)"
   ]
  },
  {
   "cell_type": "code",
   "execution_count": 47,
   "metadata": {},
   "outputs": [],
   "source": [
    "# Separamos el dataset creando por una parte el target y por otra las variables\n",
    "\n",
    "# Creamos la variable left como la target\n",
    "target = df.left\n",
    "\n",
    "# hacemos un drop() de la columna left y dejamos el resto en el dataset variables\n",
    "features = df.drop(\"left\",axis=1)\n",
    "\n",
    "# Importamos de la libreria scikit-learn la función para separar entre test and train\n",
    "from sklearn.model_selection import train_test_split\n",
    "\n",
    "\n",
    "# Dada las caracteristicas del dataset y su cantidad optamos por poner un test_size del 25%3\n",
    "target_train, target_test, features_train, features_test = train_test_split(target,features,test_size=0.25,random_state=42)\n"
   ]
  },
  {
   "cell_type": "code",
   "execution_count": 27,
   "metadata": {},
   "outputs": [
    {
     "data": {
      "text/plain": [
       "DecisionTreeClassifier(class_weight=None, criterion='gini', max_depth=None,\n",
       "            max_features=None, max_leaf_nodes=None,\n",
       "            min_impurity_decrease=0.0, min_impurity_split=None,\n",
       "            min_samples_leaf=1, min_samples_split=2,\n",
       "            min_weight_fraction_leaf=0.0, presort=False, random_state=42,\n",
       "            splitter='best')"
      ]
     },
     "execution_count": 27,
     "metadata": {},
     "output_type": "execute_result"
    }
   ],
   "source": [
    "#Importamos la función de clasificación por árbol de decisión\n",
    "from sklearn.tree import DecisionTreeClassifier\n",
    "\n",
    "# instanciamos\n",
    "model = DecisionTreeClassifier(random_state=42)\n",
    "\n",
    "# Ajustamos al trainning set\n",
    "model.fit(features_train, target_train)\n"
   ]
  },
  {
   "cell_type": "code",
   "execution_count": 29,
   "metadata": {},
   "outputs": [
    {
     "name": "stdout",
     "output_type": "stream",
     "text": [
      "100.0\n",
      "97.33333333333334\n"
     ]
    }
   ],
   "source": [
    "# precisión para el trainning set\n",
    "print(model.score(features_train, target_train)*100)\n",
    "\n",
    "# precisión de la predicción para el test set\n",
    "print(model.score(features_test,target_test)*100)\n"
   ]
  },
  {
   "cell_type": "code",
   "execution_count": 33,
   "metadata": {},
   "outputs": [],
   "source": [
    "# Importamos libreria grafica\n",
    "from sklearn.tree import export_graphviz\n",
    "\n",
    "\n",
    "model.fit(features_train,target_train)\n",
    "\n",
    "#exportamos el arbol a una versión visual .dot\n",
    "export_graphviz(model,\"tree.dot\")\n"
   ]
  },
  {
   "cell_type": "code",
   "execution_count": 34,
   "metadata": {},
   "outputs": [
    {
     "name": "stdout",
     "output_type": "stream",
     "text": [
      "97.68868343852787\n",
      "97.11999999999999\n"
     ]
    }
   ],
   "source": [
    "#Evaluating the turnover prediction model\n",
    "'''\n",
    "El overfitting es un problema clásico en análisis, especialmente para el algoritmo del árbol de decisión. \n",
    "Una vez que el árbol ha crecido completamente, puede proporcionar predicciones muy precisas para la \n",
    "muestra de entrenamiento, pero no es tan preciso en el conjunto de pruebas. \n",
    "Por esa razón, el crecimiento del árbol de decisión generalmente es controlado por:\n",
    "\n",
    "1-“La poda” del árbol estableciendo un límite en la profundidad máxima que puede tener.\n",
    "2-Limitando el número mínimo de observaciones en una hoja del árbol.\n",
    "'''\n",
    "\n",
    "# Vamos a hacer una poda a 5 leafs\n",
    "model_depth_5 = DecisionTreeClassifier(max_depth=5, random_state=42)\n",
    "\n",
    "\n",
    "model_depth_5.fit(features_train,target_train)\n",
    "\n",
    "\n",
    "print(model_depth_5.score(features_train,target_train)*100)\n",
    "\n",
    "\n",
    "print(model_depth_5.score(features_test,target_test)*100)\n"
   ]
  },
  {
   "cell_type": "code",
   "execution_count": 35,
   "metadata": {},
   "outputs": [
    {
     "name": "stdout",
     "output_type": "stream",
     "text": [
      "96.57747355320473\n",
      "96.13333333333334\n"
     ]
    }
   ],
   "source": [
    "'''\n",
    "Otro método para evitar el sobreajuste es especificar el número mínimo de observaciones\n",
    "necesarias para hacer crecer una hoja (o nodo), en el Árbol de decisiones.\n",
    "\n",
    "'''\n",
    "\n",
    "# En lugar de hacer una poda limitaremos el número de observaciones a 100 en cada una de las lefs\n",
    "model_sample_100 = DecisionTreeClassifier(min_samples_leaf=100, random_state=42)\n",
    "\n",
    "\n",
    "model_sample_100.fit(features_train,target_train)\n",
    "\n",
    "\n",
    "print(model_sample_100.score(features_train,target_train)*100)\n",
    "\n",
    "\n",
    "print(model_sample_100.score(features_test,target_test)*100)"
   ]
  },
  {
   "cell_type": "code",
   "execution_count": 36,
   "metadata": {},
   "outputs": [
    {
     "data": {
      "text/plain": [
       "0.9298813376483279"
      ]
     },
     "execution_count": 36,
     "metadata": {},
     "output_type": "execute_result"
    }
   ],
   "source": [
    "#Calculamos la precisión ahora\n",
    "from sklearn.metrics import precision_score\n",
    "\n",
    "\n",
    "prediction = model.predict(features_test)\n",
    "\n",
    "\n",
    "precision_score(target_test, prediction)"
   ]
  },
  {
   "cell_type": "code",
   "execution_count": 37,
   "metadata": {},
   "outputs": [
    {
     "data": {
      "text/plain": [
       "0.9609810479375697"
      ]
     },
     "execution_count": 37,
     "metadata": {},
     "output_type": "execute_result"
    }
   ],
   "source": [
    "# Vamos a calcular el Recall\n",
    "from sklearn.metrics import recall_score\n",
    "\n",
    "\n",
    "prediction = model.predict(features_test)\n",
    "\n",
    "\n",
    "recall_score(target_test, prediction)"
   ]
  },
  {
   "cell_type": "code",
   "execution_count": 38,
   "metadata": {},
   "outputs": [
    {
     "data": {
      "text/plain": [
       "0.9690990062681188"
      ]
     },
     "execution_count": 38,
     "metadata": {},
     "output_type": "execute_result"
    }
   ],
   "source": [
    "#Importamos la función para calcular el ROC/AUC\n",
    "from sklearn.metrics import roc_auc_score\n",
    "\n",
    "\n",
    "prediction = model.predict(features_test)\n",
    "\n",
    "# Calculamos ROC/AUC score\n",
    "roc_auc_score(target_test, prediction)"
   ]
  },
  {
   "cell_type": "code",
   "execution_count": 39,
   "metadata": {},
   "outputs": [
    {
     "name": "stdout",
     "output_type": "stream",
     "text": [
      "93.62666666666667\n"
     ]
    }
   ],
   "source": [
    "'''\n",
    "\n",
    "El balanceo de clases puede afectar significativamente los resultados de predicción, \n",
    "como lo demuestra la diferencia entre las puntuaciones de recall y prediction. \n",
    "Para resolver el desequilibrio, generalmente se asignan pesos iguales a cada clase. \n",
    "Usando el argumento class_weight en el DecisionTreeClassifier de sklearn, \n",
    "uno puede hacer que las clases se vuelvan \"equilibradas\".\n",
    "\n",
    "'''\n",
    "\n",
    "# Iniciliacimos un arbol de decisión \n",
    "model_depth_5_b = DecisionTreeClassifier(max_depth=5,class_weight=\"balanced\",random_state=42)\n",
    "\n",
    "model_depth_5_b.fit(features_train,target_train)\n",
    "\n",
    "print(model_depth_5_b.score(features_test,target_test)*100)"
   ]
  },
  {
   "cell_type": "code",
   "execution_count": 40,
   "metadata": {},
   "outputs": [
    {
     "name": "stdout",
     "output_type": "stream",
     "text": [
      "0.9609810479375697\n",
      "0.9690990062681188\n",
      "0.935340022296544\n",
      "0.9608351005278725\n"
     ]
    }
   ],
   "source": [
    "# Recall\n",
    "print(recall_score(target_test,prediction))\n",
    "# ROC/AUC score\n",
    "print(roc_auc_score(target_test,prediction))\n",
    "\n",
    "# Inicializamos el modelo balanceado\n",
    "model_depth_7_b = DecisionTreeClassifier(max_depth=7, class_weight='balanced', random_state=42)\n",
    "\n",
    "model_depth_7_b.fit(features_train,target_train)\n",
    "\n",
    "prediction_b = model_depth_7_b.predict(features_test)\n",
    "\n",
    "print(recall_score(target_test, prediction_b))\n",
    "\n",
    "print(roc_auc_score(target_test, prediction_b))"
   ]
  },
  {
   "cell_type": "code",
   "execution_count": 41,
   "metadata": {},
   "outputs": [
    {
     "name": "stdout",
     "output_type": "stream",
     "text": [
      "[0.98600933 0.984      0.97133333 0.96466667 0.962      0.978\n",
      " 0.98866667 0.98866667 1.         1.        ]\n"
     ]
    }
   ],
   "source": [
    "'''\n",
    "Si bien la técnica de división de training / test garantiza que el modelo no se adapte en exceso al conjunto de \n",
    "entrenamiento, el ajuste del hiperparámetro puede resultar en un ajuste \n",
    "excesivo del componente de prueba, \n",
    "ya que consiste en ajustar el modelo para obtener los mejores resultados de \n",
    "predicción en el conjunto de prueba . \n",
    "Por lo tanto, se recomienda validar el modelo en diferentes conjuntos del training set (o folds). \n",
    "La validación cruzada de K-fold nos permite lograr esto:\n",
    "\n",
    "Divide el conjunto de datos en un conjunto de entrenamiento y un conjunto de prueba\n",
    "se ajusta al modelo, hace predicciones y calcula una puntuación.\n",
    "'''\n",
    "\n",
    "# Importamos la libreria de sklearn para la cross validacion\n",
    "from sklearn.model_selection import cross_val_score\n",
    "\n",
    "# para 10 folds\n",
    "print(cross_val_score(model,features,target,cv=10))"
   ]
  },
  {
   "cell_type": "code",
   "execution_count": 42,
   "metadata": {},
   "outputs": [],
   "source": [
    "'''\n",
    "Un hiperparámetro es un parámetro dentro de una función. \n",
    "Por ejemplo, max_depth o min_samples_leaf son hiperparámetros de la función DecisionTreeClassifier (). \n",
    "El ajuste de hiperparámetro es el proceso de probar diferentes valores de hiperparámetros para encontrar los óptimos: \n",
    "el que proporciona las mejores predicciones de acuerdo con sus objetivos. \n",
    "En sklearn, puedes usar GridSearch para probar diferentes combinaciones de hiperparámetros. \n",
    "\n",
    "'''\n",
    "\n",
    "# Generamos valores para la maxima profundidad del arbol\n",
    "depth = [i for i in range(5,21,1)]\n",
    "\n",
    "# Generamos valores por el minimo\n",
    "samples = [i for i in range(50,500,50)]\n",
    "\n",
    "# Creamos un dicccionario con los valores de los parametros\n",
    "parameters = dict(max_depth=depth, min_samples_leaf=samples)"
   ]
  },
  {
   "cell_type": "code",
   "execution_count": 43,
   "metadata": {},
   "outputs": [
    {
     "name": "stdout",
     "output_type": "stream",
     "text": [
      "{'max_depth': 5, 'min_samples_leaf': 50}\n"
     ]
    }
   ],
   "source": [
    "# importamos la función GridSearchCV\n",
    "from sklearn.model_selection import GridSearchCV\n",
    "\n",
    "# establemcemos los parametros\n",
    "parameters = dict(max_depth=depth, min_samples_leaf=samples)\n",
    "\n",
    "# inicializamos la función param_search con el GridSearchCV()\n",
    "param_search = GridSearchCV(model, parameters)\n",
    "\n",
    "# adaptamos el param_search al dataset de train para obtener los hiperparametros ideales\n",
    "param_search.fit(features_train, target_train)\n",
    "\n",
    "\n",
    "print(param_search.best_params_)"
   ]
  }
 ],
 "metadata": {
  "kernelspec": {
   "display_name": "Python 3",
   "language": "python",
   "name": "python3"
  },
  "language_info": {
   "codemirror_mode": {
    "name": "ipython",
    "version": 3
   },
   "file_extension": ".py",
   "mimetype": "text/x-python",
   "name": "python",
   "nbconvert_exporter": "python",
   "pygments_lexer": "ipython3",
   "version": "3.6.5"
  }
 },
 "nbformat": 4,
 "nbformat_minor": 2
}
